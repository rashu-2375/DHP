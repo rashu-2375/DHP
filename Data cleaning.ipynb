{
 "cells": [
  {
   "cell_type": "code",
   "execution_count": 2,
   "metadata": {},
   "outputs": [
    {
     "name": "stderr",
     "output_type": "stream",
     "text": [
      "[nltk_data] Error loading all: <urlopen error [Errno 11001]\n",
      "[nltk_data]     getaddrinfo failed>\n"
     ]
    },
    {
     "data": {
      "text/plain": [
       "False"
      ]
     },
     "execution_count": 2,
     "metadata": {},
     "output_type": "execute_result"
    }
   ],
   "source": [
    "import nltk\n",
    "nltk.download(\"all\")"
   ]
  },
  {
   "cell_type": "code",
   "execution_count": 3,
   "metadata": {},
   "outputs": [],
   "source": [
    "import re\n",
    "# findall : returns a list containing all matches\n",
    "# Search : Returns a match subject if there is a match anywhere\n",
    "# split: returns a list where the string has been\n",
    "# sub: replaces one or many matches with a string"
   ]
  },
  {
   "cell_type": "code",
   "execution_count": 3,
   "metadata": {},
   "outputs": [],
   "source": [
    "wordlist = [w for w in nltk.corpus.words.words('en') if w.islower()]"
   ]
  },
  {
   "cell_type": "code",
   "execution_count": 6,
   "metadata": {},
   "outputs": [
    {
     "data": {
      "text/plain": [
       "['abaissed',\n",
       " 'abandoned',\n",
       " 'abandonedly',\n",
       " 'abased',\n",
       " 'abasedly',\n",
       " 'abasedness',\n",
       " 'abashed',\n",
       " 'abashedly',\n",
       " 'abashedness',\n",
       " 'abatised',\n",
       " 'abbeystede',\n",
       " 'abecedarian',\n",
       " 'abecedarium',\n",
       " 'abecedary',\n",
       " 'abed',\n",
       " 'abjectedness',\n",
       " 'aborted',\n",
       " 'abovedeck',\n",
       " 'abridged',\n",
       " 'abridgedly',\n",
       " 'abruptedly',\n",
       " 'abscessed',\n",
       " 'absconded',\n",
       " 'abscondedly',\n",
       " 'absentmindedly',\n",
       " 'absorbed',\n",
       " 'absorbedly',\n",
       " 'absorbedness',\n",
       " 'abstracted',\n",
       " 'abstractedly',\n",
       " 'abstractedness',\n",
       " 'abstricted',\n",
       " 'abusedly',\n",
       " 'accede',\n",
       " 'accedence',\n",
       " 'acceder',\n",
       " 'accelerated',\n",
       " 'acceleratedly',\n",
       " 'accepted',\n",
       " 'acceptedly',\n",
       " 'accidented',\n",
       " 'accoladed',\n",
       " 'accolated',\n",
       " 'accomplished',\n",
       " 'accosted',\n",
       " 'accredit',\n",
       " 'accreditate',\n",
       " 'accreditation',\n",
       " 'accredited',\n",
       " 'accreditment',\n",
       " 'accursed',\n",
       " 'accursedly',\n",
       " 'accursedness',\n",
       " 'accused',\n",
       " 'accustomed',\n",
       " 'accustomedly',\n",
       " 'accustomedness',\n",
       " 'acedia',\n",
       " 'acediamine',\n",
       " 'acediast',\n",
       " 'acedy',\n",
       " 'acetated',\n",
       " 'acetylenediurein',\n",
       " 'acheweed',\n",
       " 'aciculated',\n",
       " 'aciliated',\n",
       " 'acknowledge',\n",
       " 'acknowledgeable',\n",
       " 'acknowledged',\n",
       " 'acknowledgedly',\n",
       " 'acknowledger',\n",
       " 'acorned',\n",
       " 'acotyledon',\n",
       " 'acotyledonous',\n",
       " 'acquainted',\n",
       " 'acquaintedness',\n",
       " 'acquired',\n",
       " 'acquisited',\n",
       " 'acraspedote',\n",
       " 'acred',\n",
       " 'aculeated',\n",
       " 'adaptedness',\n",
       " 'addebted',\n",
       " 'added',\n",
       " 'addedly',\n",
       " 'addicted',\n",
       " 'addictedness',\n",
       " 'addlebrained',\n",
       " 'addleheaded',\n",
       " 'addleheadedly',\n",
       " 'addleheadedness',\n",
       " 'addlepated',\n",
       " 'addlepatedness',\n",
       " 'addorsed',\n",
       " 'adempted',\n",
       " 'adfected',\n",
       " 'adjoined',\n",
       " 'adjoinedly',\n",
       " 'admedial',\n",
       " 'admedian',\n",
       " 'admired',\n",
       " 'admiredly',\n",
       " 'admitted',\n",
       " 'admittedly',\n",
       " 'adnexed',\n",
       " 'adopted',\n",
       " 'adoptedly',\n",
       " 'adossed',\n",
       " 'adreamed',\n",
       " 'adscripted',\n",
       " 'aduncated',\n",
       " 'advanced',\n",
       " 'advancedness',\n",
       " 'advised',\n",
       " 'advisedly',\n",
       " 'advisedness',\n",
       " 'aedeagus',\n",
       " 'aedicula',\n",
       " 'aedile',\n",
       " 'aedileship',\n",
       " 'aedilian',\n",
       " 'aedilic',\n",
       " 'aedilitian',\n",
       " 'aedility',\n",
       " 'aedoeagus',\n",
       " 'aeried',\n",
       " 'aethered',\n",
       " 'afeared',\n",
       " 'affected',\n",
       " 'affectedly',\n",
       " 'affectedness',\n",
       " 'affectioned',\n",
       " 'affined',\n",
       " 'afflicted',\n",
       " 'afflictedness',\n",
       " 'affricated',\n",
       " 'affrighted',\n",
       " 'affrightedly',\n",
       " 'affronted',\n",
       " 'affrontedly',\n",
       " 'affrontedness',\n",
       " 'aforenamed',\n",
       " 'afterfeed',\n",
       " 'afterknowledge',\n",
       " 'aftershafted',\n",
       " 'afterthoughted',\n",
       " 'afterwitted',\n",
       " 'agazed',\n",
       " 'aged',\n",
       " 'agedly',\n",
       " 'agedness',\n",
       " 'agglomerated',\n",
       " 'aggrieved',\n",
       " 'aggrievedly',\n",
       " 'aggrievedness',\n",
       " 'agitatedly',\n",
       " 'agminated',\n",
       " 'agnamed',\n",
       " 'agonied',\n",
       " 'agonizedly',\n",
       " 'agreed',\n",
       " 'agueweed',\n",
       " 'ahungered',\n",
       " 'aiguilletted',\n",
       " 'ailweed',\n",
       " 'airbrained',\n",
       " 'airedale',\n",
       " 'airified',\n",
       " 'aiseweed',\n",
       " 'aisled',\n",
       " 'alameda',\n",
       " 'alarmed',\n",
       " 'alarmedly',\n",
       " 'alated',\n",
       " 'albedo',\n",
       " 'albedograph',\n",
       " 'algedo',\n",
       " 'algedonic',\n",
       " 'algedonics',\n",
       " 'alimonied',\n",
       " 'aliped',\n",
       " 'allegedly',\n",
       " 'alleyed',\n",
       " 'allied',\n",
       " 'alligatored',\n",
       " 'allowedly',\n",
       " 'allseed',\n",
       " 'almsdeed',\n",
       " 'aloed',\n",
       " 'altared',\n",
       " 'alveolated',\n",
       " 'amazed',\n",
       " 'amazedly',\n",
       " 'amazedness',\n",
       " 'ameed',\n",
       " 'amiced',\n",
       " 'amphitheatered',\n",
       " 'ampullated',\n",
       " 'amused',\n",
       " 'amusedly',\n",
       " 'anatomicomedical',\n",
       " 'anchored',\n",
       " 'andromedotoxin',\n",
       " 'angled',\n",
       " 'anguiped',\n",
       " 'anguished',\n",
       " 'angulated',\n",
       " 'angulinerved',\n",
       " 'anhedonia',\n",
       " 'anhedral',\n",
       " 'anhedron',\n",
       " 'anhungered',\n",
       " 'animated',\n",
       " 'animatedly',\n",
       " 'aniseed',\n",
       " 'anisocotyledonous',\n",
       " 'annodated',\n",
       " 'annulated',\n",
       " 'anomaliped',\n",
       " 'anserated',\n",
       " 'antecedaneous',\n",
       " 'antecedaneously',\n",
       " 'antecede',\n",
       " 'antecedence',\n",
       " 'antecedency',\n",
       " 'antecedent',\n",
       " 'antecedental',\n",
       " 'antecedently',\n",
       " 'antedate',\n",
       " 'antedawn',\n",
       " 'antediluvial',\n",
       " 'antediluvially',\n",
       " 'antediluvian',\n",
       " 'antedonin',\n",
       " 'antedorsal',\n",
       " 'anteflected',\n",
       " 'anteflexed',\n",
       " 'antemedial',\n",
       " 'antepredicament',\n",
       " 'antepredicamental',\n",
       " 'anteromedial',\n",
       " 'anteromedian',\n",
       " 'anthomedusan',\n",
       " 'anticonfederationist',\n",
       " 'antiedemic',\n",
       " 'antieducation',\n",
       " 'antieducational',\n",
       " 'antifederal',\n",
       " 'antifederalism',\n",
       " 'antifederalist',\n",
       " 'antimedical',\n",
       " 'antimedieval',\n",
       " 'antimoniated',\n",
       " 'antimoniureted',\n",
       " 'antimoniuretted',\n",
       " 'antipedal',\n",
       " 'antipeduncular',\n",
       " 'antipredeterminant',\n",
       " 'antipreparedness',\n",
       " 'antiquated',\n",
       " 'antiquatedness',\n",
       " 'antired',\n",
       " 'antireducer',\n",
       " 'antitorpedo',\n",
       " 'antiwedge',\n",
       " 'antiweed',\n",
       " 'antlered',\n",
       " 'apedom',\n",
       " 'apertured',\n",
       " 'apexed',\n",
       " 'apicifixed',\n",
       " 'apiculated',\n",
       " 'apocopated',\n",
       " 'apostrophied',\n",
       " 'appearanced',\n",
       " 'appellatived',\n",
       " 'appendaged',\n",
       " 'appendiculated',\n",
       " 'appledrane',\n",
       " 'applied',\n",
       " 'appliedly',\n",
       " 'appredicate',\n",
       " 'appressed',\n",
       " 'approvedly',\n",
       " 'approvedness',\n",
       " 'aqueduct',\n",
       " 'aralkylated',\n",
       " 'arbored',\n",
       " 'archdepredator',\n",
       " 'archdukedom',\n",
       " 'arched',\n",
       " 'architraved',\n",
       " 'archmediocrity',\n",
       " 'archseducer',\n",
       " 'arcked',\n",
       " 'arcuated',\n",
       " 'ared',\n",
       " 'areolated',\n",
       " 'arfvedsonite',\n",
       " 'ariled',\n",
       " 'arillated',\n",
       " 'armchaired',\n",
       " 'armed',\n",
       " 'armied',\n",
       " 'armillated',\n",
       " 'armored',\n",
       " 'armoried',\n",
       " 'arpeggiated',\n",
       " 'arpeggioed',\n",
       " 'arrased',\n",
       " 'arrowed',\n",
       " 'arrowheaded',\n",
       " 'arrowweed',\n",
       " 'arsedine',\n",
       " 'arseneted',\n",
       " 'arsenetted',\n",
       " 'arseniureted',\n",
       " 'arthredema',\n",
       " 'articled',\n",
       " 'articulated',\n",
       " 'ashamed',\n",
       " 'ashamedly',\n",
       " 'ashamedness',\n",
       " 'ashlared',\n",
       " 'ashweed',\n",
       " 'aspersed',\n",
       " 'asphyxied',\n",
       " 'assedation',\n",
       " 'assented',\n",
       " 'assessed',\n",
       " 'assigned',\n",
       " 'assistanted',\n",
       " 'associated',\n",
       " 'associatedness',\n",
       " 'assonanced',\n",
       " 'assorted',\n",
       " 'assortedness',\n",
       " 'assumed',\n",
       " 'assumedly',\n",
       " 'assured',\n",
       " 'assuredly',\n",
       " 'assuredness',\n",
       " 'asteriated',\n",
       " 'astonied',\n",
       " 'astonishedly',\n",
       " 'aswooned',\n",
       " 'atrophiated',\n",
       " 'atrophied',\n",
       " 'attached',\n",
       " 'attachedly',\n",
       " 'attired',\n",
       " 'attrited',\n",
       " 'augmented',\n",
       " 'augmentedly',\n",
       " 'aurated',\n",
       " 'auricled',\n",
       " 'auriculated',\n",
       " 'authorized',\n",
       " 'autoeducation',\n",
       " 'autoeducative',\n",
       " 'autoinhibited',\n",
       " 'autoreduction',\n",
       " 'autoschediasm',\n",
       " 'autoschediastic',\n",
       " 'autoschediastical',\n",
       " 'autoschediastically',\n",
       " 'autoschediaze',\n",
       " 'autosensitized',\n",
       " 'autosled',\n",
       " 'averted',\n",
       " 'avertedly',\n",
       " 'avowed',\n",
       " 'avowedly',\n",
       " 'avowedness',\n",
       " 'awaredom',\n",
       " 'awearied',\n",
       " 'awedness',\n",
       " 'awned',\n",
       " 'awninged',\n",
       " 'axed',\n",
       " 'axhammered',\n",
       " 'axised',\n",
       " 'axled',\n",
       " 'axseed',\n",
       " 'axweed',\n",
       " 'azedarach',\n",
       " 'azoted',\n",
       " 'azured',\n",
       " 'babied',\n",
       " 'babished',\n",
       " 'babyfied',\n",
       " 'baccated',\n",
       " 'backboned',\n",
       " 'backed',\n",
       " 'backhanded',\n",
       " 'backhandedly',\n",
       " 'backhandedness',\n",
       " 'backpedal',\n",
       " 'backwatered',\n",
       " 'baconweed',\n",
       " 'badgerweed',\n",
       " 'bagged',\n",
       " 'bagwigged',\n",
       " 'baked',\n",
       " 'balanced',\n",
       " 'balancedness',\n",
       " 'balconied',\n",
       " 'baldachined',\n",
       " 'baldricked',\n",
       " 'balled',\n",
       " 'ballweed',\n",
       " 'balsamweed',\n",
       " 'balustered',\n",
       " 'balustraded',\n",
       " 'bandannaed',\n",
       " 'banded',\n",
       " 'bandoleered',\n",
       " 'bangled',\n",
       " 'banked',\n",
       " 'bankweed',\n",
       " 'bannered',\n",
       " 'barbated',\n",
       " 'barbed',\n",
       " 'barebacked',\n",
       " 'bareboned',\n",
       " 'barefaced',\n",
       " 'barefacedly',\n",
       " 'barefacedness',\n",
       " 'barefooted',\n",
       " 'barehanded',\n",
       " 'bareheaded',\n",
       " 'bareheadedness',\n",
       " 'barelegged',\n",
       " 'barenecked',\n",
       " 'barmybrained',\n",
       " 'barred',\n",
       " 'barreled',\n",
       " 'bartizaned',\n",
       " 'basebred',\n",
       " 'based',\n",
       " 'basehearted',\n",
       " 'baseheartedness',\n",
       " 'basifixed',\n",
       " 'basilweed',\n",
       " 'basined',\n",
       " 'basinerved',\n",
       " 'basqued',\n",
       " 'bastioned',\n",
       " 'bated',\n",
       " 'bathroomed',\n",
       " 'battered',\n",
       " 'batteried',\n",
       " 'battled',\n",
       " 'battledore',\n",
       " 'battlemented',\n",
       " 'bayed',\n",
       " 'bayoneted',\n",
       " 'beached',\n",
       " 'beaded',\n",
       " 'beadledom',\n",
       " 'beaked',\n",
       " 'bealtared',\n",
       " 'beamed',\n",
       " 'beanweed',\n",
       " 'beaproned',\n",
       " 'bearded',\n",
       " 'beautied',\n",
       " 'beavered',\n",
       " 'beballed',\n",
       " 'bebannered',\n",
       " 'bebed',\n",
       " 'bebelted',\n",
       " 'bebled',\n",
       " 'bebothered',\n",
       " 'bebouldered',\n",
       " 'bebuttoned',\n",
       " 'becassocked',\n",
       " 'bechained',\n",
       " 'bechignoned',\n",
       " 'becircled',\n",
       " 'becoiffed',\n",
       " 'becombed',\n",
       " 'becousined',\n",
       " 'becrinolined',\n",
       " 'becuffed',\n",
       " 'becurtained',\n",
       " 'becushioned',\n",
       " 'bed',\n",
       " 'bedabble',\n",
       " 'bedad',\n",
       " 'bedaggered',\n",
       " 'bedamn',\n",
       " 'bedamp',\n",
       " 'bedangled',\n",
       " 'bedare',\n",
       " 'bedark',\n",
       " 'bedarken',\n",
       " 'bedash',\n",
       " 'bedaub',\n",
       " 'bedawn',\n",
       " 'beday',\n",
       " 'bedaze',\n",
       " 'bedazement',\n",
       " 'bedazzle',\n",
       " 'bedazzlement',\n",
       " 'bedazzling',\n",
       " 'bedazzlingly',\n",
       " 'bedboard',\n",
       " 'bedbug',\n",
       " 'bedcap',\n",
       " 'bedcase',\n",
       " 'bedchair',\n",
       " 'bedchamber',\n",
       " 'bedclothes',\n",
       " 'bedcord',\n",
       " 'bedcover',\n",
       " 'bedded',\n",
       " 'bedder',\n",
       " 'bedding',\n",
       " 'bedead',\n",
       " 'bedeaf',\n",
       " 'bedeafen',\n",
       " 'bedebt',\n",
       " 'bedeck',\n",
       " 'bedecorate',\n",
       " 'bedeguar',\n",
       " 'bedel',\n",
       " 'beden',\n",
       " 'bedene',\n",
       " 'bedesman',\n",
       " 'bedevil',\n",
       " 'bedevilment',\n",
       " 'bedew',\n",
       " 'bedewer',\n",
       " 'bedewoman',\n",
       " 'bedfast',\n",
       " 'bedfellow',\n",
       " 'bedfellowship',\n",
       " 'bedflower',\n",
       " 'bedfoot',\n",
       " 'bedframe',\n",
       " 'bedgery',\n",
       " 'bedgoer',\n",
       " 'bedgown',\n",
       " 'bediademed',\n",
       " 'bediamonded',\n",
       " 'bediaper',\n",
       " 'bedight',\n",
       " 'bedikah',\n",
       " 'bedim',\n",
       " 'bedimple',\n",
       " 'bedin',\n",
       " 'bedip',\n",
       " 'bedirt',\n",
       " 'bedirter',\n",
       " 'bedirty',\n",
       " 'bedismal',\n",
       " 'bedizen',\n",
       " 'bedizenment',\n",
       " 'bedkey',\n",
       " 'bedlam',\n",
       " 'bedlamer',\n",
       " 'bedlamism',\n",
       " 'bedlamite',\n",
       " 'bedlamitish',\n",
       " 'bedlamize',\n",
       " 'bedlar',\n",
       " 'bedless',\n",
       " 'bedlids',\n",
       " 'bedmaker',\n",
       " 'bedmaking',\n",
       " 'bedman',\n",
       " 'bedmate',\n",
       " 'bedoctor',\n",
       " 'bedog',\n",
       " 'bedolt',\n",
       " 'bedot',\n",
       " 'bedote',\n",
       " 'bedouse',\n",
       " 'bedown',\n",
       " 'bedoyo',\n",
       " 'bedpan',\n",
       " 'bedplate',\n",
       " 'bedpost',\n",
       " 'bedquilt',\n",
       " 'bedrabble',\n",
       " 'bedraggle',\n",
       " 'bedragglement',\n",
       " 'bedrail',\n",
       " 'bedral',\n",
       " 'bedrape',\n",
       " 'bedravel',\n",
       " 'bedrench',\n",
       " 'bedress',\n",
       " 'bedribble',\n",
       " 'bedrid',\n",
       " 'bedridden',\n",
       " 'bedriddenness',\n",
       " 'bedrift',\n",
       " 'bedright',\n",
       " 'bedrip',\n",
       " 'bedrivel',\n",
       " 'bedrizzle',\n",
       " 'bedrock',\n",
       " 'bedroll',\n",
       " 'bedroom',\n",
       " 'bedrop',\n",
       " 'bedrown',\n",
       " 'bedrowse',\n",
       " 'bedrug',\n",
       " 'bedscrew',\n",
       " 'bedsick',\n",
       " 'bedside',\n",
       " 'bedsite',\n",
       " 'bedsock',\n",
       " 'bedsore',\n",
       " 'bedspread',\n",
       " 'bedspring',\n",
       " 'bedstaff',\n",
       " 'bedstand',\n",
       " 'bedstaves',\n",
       " 'bedstead',\n",
       " 'bedstock',\n",
       " 'bedstraw',\n",
       " 'bedstring',\n",
       " 'bedtick',\n",
       " 'bedticking',\n",
       " 'bedtime',\n",
       " 'bedub',\n",
       " 'beduchess',\n",
       " 'beduck',\n",
       " 'beduke',\n",
       " 'bedull',\n",
       " 'bedumb',\n",
       " 'bedunce',\n",
       " 'bedunch',\n",
       " 'bedung',\n",
       " 'bedur',\n",
       " 'bedusk',\n",
       " 'bedust',\n",
       " 'bedwarf',\n",
       " 'bedway',\n",
       " 'bedways',\n",
       " 'bedwell',\n",
       " 'bedye',\n",
       " 'beedged',\n",
       " 'beedom',\n",
       " 'beefheaded',\n",
       " 'beeheaded',\n",
       " 'beeswinged',\n",
       " 'beetled',\n",
       " 'beetleheaded',\n",
       " 'beetleweed',\n",
       " 'beeweed',\n",
       " 'befamilied',\n",
       " 'befanned',\n",
       " 'befathered',\n",
       " 'beferned',\n",
       " 'befetished',\n",
       " 'befezzed',\n",
       " 'befilleted',\n",
       " 'befilmed',\n",
       " 'beforested',\n",
       " 'befountained',\n",
       " 'befrocked',\n",
       " 'befrogged',\n",
       " 'befurbelowed',\n",
       " 'befurred',\n",
       " 'begabled',\n",
       " 'begarlanded',\n",
       " 'begartered',\n",
       " 'beggarweed',\n",
       " 'beglobed',\n",
       " 'begoggled',\n",
       " 'begowned',\n",
       " 'behatted',\n",
       " 'behaviored',\n",
       " 'beheadlined',\n",
       " 'behedge',\n",
       " 'behooped',\n",
       " 'beinked',\n",
       " 'bekilted',\n",
       " 'beknived',\n",
       " 'beknotted',\n",
       " 'beknottedly',\n",
       " 'beknottedness',\n",
       " 'belaced',\n",
       " 'belated',\n",
       " 'belatedly',\n",
       " 'belatedness',\n",
       " 'belatticed',\n",
       " 'belavendered',\n",
       " 'beledgered',\n",
       " 'belfried',\n",
       " 'beliked',\n",
       " 'belimousined',\n",
       " 'belled',\n",
       " 'belledom',\n",
       " 'bellied',\n",
       " 'bellmouthed',\n",
       " 'bellweed',\n",
       " 'beloved',\n",
       " 'belozenged',\n",
       " 'belted',\n",
       " 'belvedere',\n",
       " 'bemazed',\n",
       " 'bemedaled',\n",
       " 'bemedalled',\n",
       " 'bemitered',\n",
       " 'bemitred',\n",
       " 'bemused',\n",
       " 'bemusedly',\n",
       " 'bemuslined',\n",
       " 'bended',\n",
       " 'beneaped',\n",
       " 'benedicite',\n",
       " 'benedict',\n",
       " 'benediction',\n",
       " 'benedictional',\n",
       " 'benedictionary',\n",
       " 'benedictive',\n",
       " 'benedictively',\n",
       " 'benedictory',\n",
       " 'benedight',\n",
       " 'beneficed',\n",
       " 'beneighbored',\n",
       " 'benempted',\n",
       " 'benighted',\n",
       " 'benightedness',\n",
       " 'bennetweed',\n",
       " 'benumbed',\n",
       " 'benumbedness',\n",
       " 'benweed',\n",
       " 'benzenediazonium',\n",
       " 'benzoated',\n",
       " 'benzoinated',\n",
       " 'bepastured',\n",
       " 'bepatched',\n",
       " 'beperiwigged',\n",
       " 'bepewed',\n",
       " 'bepillared',\n",
       " 'bepistoled',\n",
       " 'beplaided',\n",
       " 'beplumed',\n",
       " 'beribanded',\n",
       " 'beribboned',\n",
       " 'beringed',\n",
       " 'beringleted',\n",
       " 'berobed',\n",
       " 'berouged',\n",
       " 'berried',\n",
       " 'berthed',\n",
       " 'beruffed',\n",
       " 'beruffled',\n",
       " 'beshawled',\n",
       " 'besieged',\n",
       " 'beslushed',\n",
       " 'besotted',\n",
       " 'besottedly',\n",
       " 'besottedness',\n",
       " 'bespecked',\n",
       " 'bespectacled',\n",
       " 'besped',\n",
       " 'bespeed',\n",
       " 'bespelled',\n",
       " 'bespottedness',\n",
       " 'bespurred',\n",
       " 'bestatued',\n",
       " 'bestayed',\n",
       " 'bestrapped',\n",
       " 'bestubbled',\n",
       " 'besweatered',\n",
       " 'betattered',\n",
       " 'betaxed',\n",
       " 'betowered',\n",
       " 'betrothed',\n",
       " 'betrousered',\n",
       " 'betted',\n",
       " 'betuckered',\n",
       " 'beturbaned',\n",
       " 'betusked',\n",
       " 'betutored',\n",
       " 'betwattled',\n",
       " 'beuniformed',\n",
       " 'beveled',\n",
       " 'bevelled',\n",
       " 'bevesseled',\n",
       " 'bevesselled',\n",
       " 'bevined',\n",
       " 'bevoiled',\n",
       " 'bewaitered',\n",
       " 'bewhiskered',\n",
       " 'bewigged',\n",
       " 'bewildered',\n",
       " 'bewilderedly',\n",
       " 'bewilderedness',\n",
       " 'bewinged',\n",
       " 'bewired',\n",
       " 'bewitchedness',\n",
       " 'bewrathed',\n",
       " 'biangulated',\n",
       " 'biarcuated',\n",
       " 'biarticulated',\n",
       " 'bicarbureted',\n",
       " 'biciliated',\n",
       " 'bicolored',\n",
       " 'bicorned',\n",
       " 'bidented',\n",
       " 'bifanged',\n",
       " 'bifidated',\n",
       " 'biflected',\n",
       " 'biforked',\n",
       " 'biformed',\n",
       " 'bifronted',\n",
       " 'bifurcated',\n",
       " 'bigeminated',\n",
       " 'bighearted',\n",
       " 'bigheartedness',\n",
       " 'bigmouthed',\n",
       " 'bigoted',\n",
       " 'bigotedly',\n",
       " 'bigwigged',\n",
       " 'bigwiggedness',\n",
       " 'bilamellated',\n",
       " 'bilaminated',\n",
       " 'billed',\n",
       " 'bilobated',\n",
       " 'bilobed',\n",
       " 'bilsted',\n",
       " 'bimaculated',\n",
       " 'bimotored',\n",
       " 'bindweed',\n",
       " 'bineweed',\n",
       " 'binominated',\n",
       " 'binucleated',\n",
       " 'biparted',\n",
       " 'bipectinated',\n",
       " 'biped',\n",
       " 'bipedal',\n",
       " 'bipedality',\n",
       " 'bipedism',\n",
       " 'bipennated',\n",
       " 'bipinnated',\n",
       " 'bipinnatiparted',\n",
       " 'bipinnatisected',\n",
       " 'biradiated',\n",
       " 'birdmouthed',\n",
       " 'birdseed',\n",
       " 'birdweed',\n",
       " 'birostrated',\n",
       " 'birthbed',\n",
       " 'bisexed',\n",
       " 'bishopweed',\n",
       " 'bistered',\n",
       " 'bistipuled',\n",
       " 'bisubstituted',\n",
       " 'bitted',\n",
       " 'bitterhearted',\n",
       " 'bitterheartedness',\n",
       " 'bitterweed',\n",
       " 'bituberculated',\n",
       " 'bitumed',\n",
       " 'bivalved',\n",
       " 'bivaulted',\n",
       " 'bivocalized',\n",
       " 'blackhearted',\n",
       " 'blackheartedness',\n",
       " 'blackseed',\n",
       " 'blackshirted',\n",
       " 'bladderseed',\n",
       " 'bladderweed',\n",
       " 'bladed',\n",
       " 'blakeberyed',\n",
       " 'blamed',\n",
       " 'blanked',\n",
       " 'blanketed',\n",
       " 'blanketweed',\n",
       " 'blasted',\n",
       " 'bleached',\n",
       " 'bleared',\n",
       " 'blearedness',\n",
       " 'bleed',\n",
       " 'bleeder',\n",
       " 'bleeding',\n",
       " 'blended',\n",
       " 'blepharedema',\n",
       " 'blessed',\n",
       " 'blessedly',\n",
       " 'blessedness',\n",
       " 'blighted',\n",
       " 'blinded',\n",
       " 'blindedly',\n",
       " 'blindfolded',\n",
       " 'blindfoldedness',\n",
       " 'blindweed',\n",
       " 'blinked',\n",
       " 'blinkered',\n",
       " 'blistered',\n",
       " 'blisterweed',\n",
       " 'blithehearted',\n",
       " 'bloated',\n",
       " 'bloatedness',\n",
       " 'blobbed',\n",
       " 'blocked',\n",
       " 'blockheaded',\n",
       " 'blockheadedly',\n",
       " 'blockheadedness',\n",
       " 'blooded',\n",
       " 'bloodied',\n",
       " 'bloodshed',\n",
       " 'bloodshedder',\n",
       " 'bloodshedding',\n",
       " 'bloodstained',\n",
       " 'bloodstainedness',\n",
       " 'bloodweed',\n",
       " 'blossomed',\n",
       " 'blotched',\n",
       " 'bloused',\n",
       " 'blowzed',\n",
       " 'bludgeoned',\n",
       " 'bluebelled',\n",
       " 'bluehearted',\n",
       " 'blueweed',\n",
       " 'blunderheaded',\n",
       " 'blunderheadedness',\n",
       " 'blunthearted',\n",
       " 'blurred',\n",
       " 'blurredness',\n",
       " 'bobbed',\n",
       " 'bobsled',\n",
       " 'bobtailed',\n",
       " 'bocedization',\n",
       " 'bodiced',\n",
       " 'bodied',\n",
       " 'bogledom',\n",
       " 'boiled',\n",
       " 'boldhearted',\n",
       " 'bolectioned',\n",
       " 'boled',\n",
       " 'boleweed',\n",
       " 'bolled',\n",
       " 'bombed',\n",
       " 'bonded',\n",
       " 'boned',\n",
       " 'bonedog',\n",
       " 'boneheaded',\n",
       " 'bonneted',\n",
       " 'boodledom',\n",
       " 'booked',\n",
       " 'booted',\n",
       " 'bootied',\n",
       " 'boozed',\n",
       " 'bordered',\n",
       " 'bordured',\n",
       " 'boredom',\n",
       " 'bosomed',\n",
       " 'bossed',\n",
       " 'bosselated',\n",
       " 'botched',\n",
       " 'botchedly',\n",
       " 'botherheaded',\n",
       " 'bothsided',\n",
       " 'bothsidedness',\n",
       " 'bottled',\n",
       " 'bottomed',\n",
       " 'boughed',\n",
       " 'bounded',\n",
       " 'boundedly',\n",
       " 'boundedness',\n",
       " 'bountied',\n",
       " 'boustrophedon',\n",
       " 'boustrophedonic',\n",
       " 'bowed',\n",
       " 'bowedness',\n",
       " 'boweled',\n",
       " 'bowlegged',\n",
       " 'bowleggedness',\n",
       " 'bowstringed',\n",
       " 'braced',\n",
       " 'braceleted',\n",
       " 'brackened',\n",
       " 'bracted',\n",
       " 'braided',\n",
       " 'brambled',\n",
       " 'branched',\n",
       " 'branded',\n",
       " 'brandied',\n",
       " 'brangled',\n",
       " 'bravehearted',\n",
       " 'brawned',\n",
       " 'brawnedness',\n",
       " 'brazenfaced',\n",
       " 'brazenfacedly',\n",
       " 'breasted',\n",
       " 'breastfeeding',\n",
       " 'breastweed',\n",
       " 'breathed',\n",
       " 'brecciated',\n",
       " 'bred',\n",
       " 'bredbergite',\n",
       " ...]"
      ]
     },
     "execution_count": 6,
     "metadata": {},
     "output_type": "execute_result"
    }
   ],
   "source": [
    "# [w for w in wordlist if re.search(\"ed$\", w)]\n",
    "[w for w in wordlist if re.search(\"ed\", w)]"
   ]
  },
  {
   "cell_type": "code",
   "execution_count": null,
   "metadata": {},
   "outputs": [],
   "source": [
    "list1 =[]\n",
    "for w in wordlist:\n",
    "    if re.search('ed$', w):\n",
    "        list1.append(w)\n"
   ]
  },
  {
   "cell_type": "code",
   "execution_count": 9,
   "metadata": {},
   "outputs": [
    {
     "data": {
      "text/plain": [
       "[['abjectly',\n",
       "  'adjuster',\n",
       "  'coprojector',\n",
       "  'dejected',\n",
       "  'dejectly',\n",
       "  'injector',\n",
       "  'interjector',\n",
       "  'majestic',\n",
       "  'maladjusted',\n",
       "  'microprojector',\n",
       "  'munjistin',\n",
       "  'objectee',\n",
       "  'objector',\n",
       "  'projector',\n",
       "  'readjuster',\n",
       "  'rejecter',\n",
       "  'rejector',\n",
       "  'subjected',\n",
       "  'unadjusted',\n",
       "  'undejected',\n",
       "  'unejected',\n",
       "  'uninjected',\n",
       "  'uninterjected',\n",
       "  'unjilted',\n",
       "  'unjolted',\n",
       "  'unjustly',\n",
       "  'unmajestic',\n",
       "  'unobjected',\n",
       "  'unprojected',\n",
       "  'unsubjected']]"
      ]
     },
     "execution_count": 9,
     "metadata": {},
     "output_type": "execute_result"
    }
   ],
   "source": [
    "# [[w for w in wordlist if re.search(\"^..j..t..$\", w)]]\n",
    "\n",
    "# [[w for w in wordlist if re.search(\"^..j..t..\", w)]]\n",
    "[[w for w in wordlist if re.search(\"..j..t..$\", w)]]\n"
   ]
  },
  {
   "cell_type": "code",
   "execution_count": 11,
   "metadata": {},
   "outputs": [
    {
     "data": {
      "text/plain": [
       "['bad', 'bead']"
      ]
     },
     "execution_count": 11,
     "metadata": {},
     "output_type": "execute_result"
    }
   ],
   "source": [
    "[w for w in wordlist if re.search('^be?ad$',w)]"
   ]
  },
  {
   "cell_type": "code",
   "execution_count": 12,
   "metadata": {},
   "outputs": [
    {
     "data": {
      "text/plain": [
       "['bad', 'bead', 'bed', 'beld', 'bend', 'bid', 'bod', 'bud']"
      ]
     },
     "execution_count": 12,
     "metadata": {},
     "output_type": "execute_result"
    }
   ],
   "source": [
    "[w for w in wordlist if re.search(\"^be?.d$\", w)]"
   ]
  },
  {
   "cell_type": "code",
   "execution_count": 20,
   "metadata": {},
   "outputs": [
    {
     "data": {
      "text/plain": [
       "[]"
      ]
     },
     "execution_count": 20,
     "metadata": {},
     "output_type": "execute_result"
    }
   ],
   "source": [
    "# [w for w in wordlist if re.search(\"^[ghi]$\", w)]\n",
    "# [w for w in wordlist if re.search(\"^ghi$\", w)]\n",
    "# [w for w in wordlist if re.search(\"^g$\", w)]\n",
    "# [w for w in wordlist if re.search(\"^h$\", w)]\n",
    "# [w for w in wordlist if re.search(\"^$\", w)]\n"
   ]
  },
  {
   "cell_type": "code",
   "execution_count": 23,
   "metadata": {},
   "outputs": [
    {
     "data": {
      "text/plain": [
       "['gold', 'golf', 'hold', 'hole']"
      ]
     },
     "execution_count": 23,
     "metadata": {},
     "output_type": "execute_result"
    }
   ],
   "source": [
    "[w for w in wordlist if re.search(\"^[ghi][mno][jlk][def]$\", w)]"
   ]
  },
  {
   "cell_type": "code",
   "execution_count": 24,
   "metadata": {},
   "outputs": [
    {
     "data": {
      "text/plain": [
       "['g', 'gig', 'h', 'hi', 'high', 'i', 'ihi']"
      ]
     },
     "execution_count": 24,
     "metadata": {},
     "output_type": "execute_result"
    }
   ],
   "source": [
    "[w for w in wordlist if re.search(\"^[ghi]+$\", w)]"
   ]
  },
  {
   "cell_type": "code",
   "execution_count": 27,
   "metadata": {},
   "outputs": [
    {
     "data": {
      "text/plain": [
       "['g', 'gig', 'h', 'hi', 'high', 'i', 'ihi', 'j', 'jig']"
      ]
     },
     "execution_count": 27,
     "metadata": {},
     "output_type": "execute_result"
    }
   ],
   "source": [
    "[w for w in wordlist if re.search(\"^[g-j]+$\", w)]"
   ]
  },
  {
   "cell_type": "code",
   "execution_count": null,
   "metadata": {},
   "outputs": [],
   "source": []
  },
  {
   "cell_type": "code",
   "execution_count": 28,
   "metadata": {},
   "outputs": [
    {
     "data": {
      "text/plain": [
       "['a', 'aa', 'aba', 'abb', 'b', 'ba', 'baa', 'baba']"
      ]
     },
     "execution_count": 28,
     "metadata": {},
     "output_type": "execute_result"
    }
   ],
   "source": [
    "[w for w in wordlist if re.search(\"^[^c-z]+$\", w)] # taken other character than a-z"
   ]
  },
  {
   "cell_type": "markdown",
   "metadata": {},
   "source": [
    "Chat Words"
   ]
  },
  {
   "cell_type": "code",
   "execution_count": 29,
   "metadata": {},
   "outputs": [],
   "source": [
    "chat_words = sorted(set(w for w in nltk.corpus.nps_chat.words()))"
   ]
  },
  {
   "cell_type": "code",
   "execution_count": 31,
   "metadata": {},
   "outputs": [
    {
     "data": {
      "text/plain": [
       "['miiiiiiiiiiiiinnnnnnnnnnneeeeeeeeee', 'miiiiiinnnnnnnnnneeeeeeee', 'mine']"
      ]
     },
     "execution_count": 31,
     "metadata": {},
     "output_type": "execute_result"
    }
   ],
   "source": [
    "[w for w in chat_words if re.search('^m+i+n+e+$',w)] \n",
    "# order has to be reserved\n",
    "[w for w in chat_words if re.search('^mi+n+e+$',w)] # + ke pahle wali ko repeat hone ko allow krta\n"
   ]
  },
  {
   "cell_type": "code",
   "execution_count": 32,
   "metadata": {},
   "outputs": [
    {
     "data": {
      "text/plain": [
       "['a',\n",
       " 'aaaaaaaaaaaaaaaaa',\n",
       " 'aaahhhh',\n",
       " 'ah',\n",
       " 'ahah',\n",
       " 'ahahah',\n",
       " 'ahh',\n",
       " 'ahhahahaha',\n",
       " 'ahhh',\n",
       " 'ahhhh',\n",
       " 'ahhhhhh',\n",
       " 'ahhhhhhhhhhhhhh',\n",
       " 'h',\n",
       " 'ha',\n",
       " 'haaa',\n",
       " 'hah',\n",
       " 'haha',\n",
       " 'hahaaa',\n",
       " 'hahah',\n",
       " 'hahaha',\n",
       " 'hahahaa',\n",
       " 'hahahah',\n",
       " 'hahahaha',\n",
       " 'hahahahaaa',\n",
       " 'hahahahahaha',\n",
       " 'hahahahahahaha',\n",
       " 'hahahahahahahahahahahahahahahaha',\n",
       " 'hahahhahah',\n",
       " 'hahhahahaha']"
      ]
     },
     "execution_count": 32,
     "metadata": {},
     "output_type": "execute_result"
    }
   ],
   "source": [
    "[w for w in chat_words if re.search('^[ha]+$',w)] "
   ]
  },
  {
   "cell_type": "code",
   "execution_count": 33,
   "metadata": {},
   "outputs": [
    {
     "data": {
      "text/plain": [
       "['',\n",
       " 'a',\n",
       " 'aaaaaaaaaaaaaaaaa',\n",
       " 'aaahhhh',\n",
       " 'ah',\n",
       " 'ahah',\n",
       " 'ahahah',\n",
       " 'ahh',\n",
       " 'ahhahahaha',\n",
       " 'ahhh',\n",
       " 'ahhhh',\n",
       " 'ahhhhhh',\n",
       " 'ahhhhhhhhhhhhhh',\n",
       " 'h',\n",
       " 'ha',\n",
       " 'haaa',\n",
       " 'hah',\n",
       " 'haha',\n",
       " 'hahaaa',\n",
       " 'hahah',\n",
       " 'hahaha',\n",
       " 'hahahaa',\n",
       " 'hahahah',\n",
       " 'hahahaha',\n",
       " 'hahahahaaa',\n",
       " 'hahahahahaha',\n",
       " 'hahahahahahaha',\n",
       " 'hahahahahahahahahahahahahahahaha',\n",
       " 'hahahhahah',\n",
       " 'hahhahahaha']"
      ]
     },
     "execution_count": 33,
     "metadata": {},
     "output_type": "execute_result"
    }
   ],
   "source": [
    "[w for w in chat_words if re.search('^[ha]*$',w)] "
   ]
  },
  {
   "cell_type": "code",
   "execution_count": 36,
   "metadata": {},
   "outputs": [],
   "source": [
    "wsj = sorted(set(nltk.corpus.treebank.words()))"
   ]
  },
  {
   "cell_type": "code",
   "execution_count": 38,
   "metadata": {},
   "outputs": [
    {
     "name": "stderr",
     "output_type": "stream",
     "text": [
      "<>:1: SyntaxWarning: invalid escape sequence '\\.'\n",
      "<>:1: SyntaxWarning: invalid escape sequence '\\.'\n",
      "C:\\Users\\rashu\\AppData\\Local\\Temp\\ipykernel_13352\\2048063926.py:1: SyntaxWarning: invalid escape sequence '\\.'\n",
      "  [w for w in wsj if re.search('^[0-9]+\\.[0-9]+$',w)]\n"
     ]
    },
    {
     "data": {
      "text/plain": [
       "['0', '1', '2', '3', '4', '5', '6', '7', '8', '9']"
      ]
     },
     "execution_count": 38,
     "metadata": {},
     "output_type": "execute_result"
    }
   ],
   "source": [
    "[w for w in wsj if re.search('^[0-9]+\\.[0-9]+$',w)]\n",
    "[w for w in wsj if re.search('^[0-9]$',w)]\n"
   ]
  },
  {
   "cell_type": "code",
   "execution_count": 39,
   "metadata": {},
   "outputs": [
    {
     "name": "stderr",
     "output_type": "stream",
     "text": [
      "<>:1: SyntaxWarning: invalid escape sequence '\\$'\n",
      "<>:1: SyntaxWarning: invalid escape sequence '\\$'\n",
      "C:\\Users\\rashu\\AppData\\Local\\Temp\\ipykernel_13352\\2229887339.py:1: SyntaxWarning: invalid escape sequence '\\$'\n",
      "  [w for w in wsj if re.search('^[A-Z]+\\$$',w)]\n"
     ]
    },
    {
     "data": {
      "text/plain": [
       "['C$', 'US$']"
      ]
     },
     "execution_count": 39,
     "metadata": {},
     "output_type": "execute_result"
    }
   ],
   "source": [
    "[w for w in wsj if re.search('^[A-Z]+\\$$',w)]"
   ]
  },
  {
   "cell_type": "code",
   "execution_count": 40,
   "metadata": {},
   "outputs": [
    {
     "data": {
      "text/plain": [
       "['1614',\n",
       " '1637',\n",
       " '1787',\n",
       " '1901',\n",
       " '1903',\n",
       " '1917',\n",
       " '1925',\n",
       " '1929',\n",
       " '1933',\n",
       " '1934',\n",
       " '1948',\n",
       " '1953',\n",
       " '1955',\n",
       " '1956',\n",
       " '1961',\n",
       " '1965',\n",
       " '1966',\n",
       " '1967',\n",
       " '1968',\n",
       " '1969',\n",
       " '1970',\n",
       " '1971',\n",
       " '1972',\n",
       " '1973',\n",
       " '1975',\n",
       " '1976',\n",
       " '1977',\n",
       " '1979',\n",
       " '1980',\n",
       " '1981',\n",
       " '1982',\n",
       " '1983',\n",
       " '1984',\n",
       " '1985',\n",
       " '1986',\n",
       " '1987',\n",
       " '1988',\n",
       " '1989',\n",
       " '1990',\n",
       " '1991',\n",
       " '1992',\n",
       " '1993',\n",
       " '1994',\n",
       " '1995',\n",
       " '1996',\n",
       " '1997',\n",
       " '1998',\n",
       " '1999',\n",
       " '2000',\n",
       " '2005',\n",
       " '2009',\n",
       " '2017',\n",
       " '2019',\n",
       " '2029',\n",
       " '3057',\n",
       " '8300']"
      ]
     },
     "execution_count": 40,
     "metadata": {},
     "output_type": "execute_result"
    }
   ],
   "source": [
    "[w for w in wsj if re.search('^[0-9]{4}$',w)]  #specific no. of times"
   ]
  },
  {
   "cell_type": "code",
   "execution_count": 45,
   "metadata": {},
   "outputs": [
    {
     "data": {
      "text/plain": [
       "['100',\n",
       " '101',\n",
       " '102',\n",
       " '103',\n",
       " '105',\n",
       " '106',\n",
       " '107',\n",
       " '108',\n",
       " '110',\n",
       " '111',\n",
       " '114',\n",
       " '115',\n",
       " '118',\n",
       " '119',\n",
       " '120',\n",
       " '125',\n",
       " '128',\n",
       " '130',\n",
       " '132',\n",
       " '133',\n",
       " '135',\n",
       " '138',\n",
       " '139',\n",
       " '140',\n",
       " '144',\n",
       " '145',\n",
       " '148',\n",
       " '149',\n",
       " '150',\n",
       " '155',\n",
       " '160',\n",
       " '170',\n",
       " '175',\n",
       " '176',\n",
       " '177',\n",
       " '179',\n",
       " '180',\n",
       " '184',\n",
       " '187',\n",
       " '188',\n",
       " '190',\n",
       " '195',\n",
       " '198',\n",
       " '200',\n",
       " '203',\n",
       " '210',\n",
       " '212',\n",
       " '214',\n",
       " '220',\n",
       " '225',\n",
       " '227',\n",
       " '228',\n",
       " '235',\n",
       " '240',\n",
       " '241',\n",
       " '245',\n",
       " '250',\n",
       " '257',\n",
       " '260',\n",
       " '266',\n",
       " '270',\n",
       " '274',\n",
       " '275',\n",
       " '280',\n",
       " '282',\n",
       " '286',\n",
       " '295',\n",
       " '300',\n",
       " '301',\n",
       " '306',\n",
       " '310',\n",
       " '313',\n",
       " '320',\n",
       " '321',\n",
       " '326',\n",
       " '339',\n",
       " '343',\n",
       " '350',\n",
       " '353',\n",
       " '360',\n",
       " '370',\n",
       " '380',\n",
       " '386',\n",
       " '388',\n",
       " '397',\n",
       " '400',\n",
       " '405',\n",
       " '415',\n",
       " '420',\n",
       " '430',\n",
       " '445',\n",
       " '450',\n",
       " '451',\n",
       " '454',\n",
       " '458',\n",
       " '467',\n",
       " '472',\n",
       " '490',\n",
       " '492',\n",
       " '500',\n",
       " '501',\n",
       " '512',\n",
       " '534',\n",
       " '570',\n",
       " '576',\n",
       " '598',\n",
       " '600',\n",
       " '605',\n",
       " '609',\n",
       " '620',\n",
       " '644',\n",
       " '666',\n",
       " '672',\n",
       " '692',\n",
       " '700',\n",
       " '701',\n",
       " '721',\n",
       " '722',\n",
       " '730',\n",
       " '750',\n",
       " '753',\n",
       " '767',\n",
       " '777',\n",
       " '778',\n",
       " '800',\n",
       " '847',\n",
       " '850',\n",
       " '879',\n",
       " '890',\n",
       " '900',\n",
       " '909',\n",
       " '913',\n",
       " '917',\n",
       " '960',\n",
       " '963']"
      ]
     },
     "execution_count": 45,
     "metadata": {},
     "output_type": "execute_result"
    }
   ],
   "source": [
    "[w for w in wsj if re.search('^[0-9]{3}$',w)]"
   ]
  },
  {
   "cell_type": "code",
   "execution_count": 43,
   "metadata": {},
   "outputs": [
    {
     "data": {
      "text/plain": [
       "['10-day',\n",
       " '10-lap',\n",
       " '10-year',\n",
       " '100-share',\n",
       " '12-point',\n",
       " '12-year',\n",
       " '14-hour',\n",
       " '15-day',\n",
       " '150-point',\n",
       " '190-point',\n",
       " '20-point',\n",
       " '20-stock',\n",
       " '21-month',\n",
       " '237-seat',\n",
       " '240-page',\n",
       " '27-year',\n",
       " '30-day',\n",
       " '30-point',\n",
       " '30-share',\n",
       " '30-year',\n",
       " '300-day',\n",
       " '36-day',\n",
       " '36-store',\n",
       " '42-year',\n",
       " '50-state',\n",
       " '500-stock',\n",
       " '52-week',\n",
       " '69-point',\n",
       " '84-month',\n",
       " '87-store',\n",
       " '90-day']"
      ]
     },
     "execution_count": 43,
     "metadata": {},
     "output_type": "execute_result"
    }
   ],
   "source": [
    "[w for w in wsj if re.search('^[0-9]+-[a-z]{3,5}$',w)]"
   ]
  },
  {
   "cell_type": "code",
   "execution_count": 47,
   "metadata": {},
   "outputs": [
    {
     "data": {
      "text/plain": [
       "[]"
      ]
     },
     "execution_count": 47,
     "metadata": {},
     "output_type": "execute_result"
    }
   ],
   "source": [
    "[w for w in wsj if re.search('^[a-z]{5,}-(a-z){2,3}-[a-z]{6,}$',w)]"
   ]
  },
  {
   "cell_type": "code",
   "execution_count": 48,
   "metadata": {},
   "outputs": [
    {
     "data": {
      "text/plain": [
       "<re.Match object; span=(3, 5), match='ed'>"
      ]
     },
     "execution_count": 48,
     "metadata": {},
     "output_type": "execute_result"
    }
   ],
   "source": [
    "re.search('ed$', 'mixed')"
   ]
  },
  {
   "cell_type": "code",
   "execution_count": 49,
   "metadata": {},
   "outputs": [],
   "source": [
    "re.search('ed$', 'credit')"
   ]
  },
  {
   "cell_type": "code",
   "execution_count": 50,
   "metadata": {},
   "outputs": [
    {
     "name": "stdout",
     "output_type": "stream",
     "text": [
      "mixed\n",
      "<re.Match object; span=(3, 5), match='ed'>\n",
      "\n",
      "\n",
      "credit\n",
      "<re.Match object; span=(2, 4), match='ed'>\n",
      "\n",
      "\n",
      "mixing\n",
      "<re.Match object; span=(3, 6), match='ing'>\n",
      "\n",
      "\n",
      "willingly\n",
      "None\n",
      "\n",
      "\n"
     ]
    }
   ],
   "source": [
    "lst = ['mixed', 'credit', 'mixing', 'willingly']\n",
    "for word in lst:\n",
    "    print(word)\n",
    "    print(re.search('ed|ing$', word))\n",
    "    print(\"\\n\")"
   ]
  },
  {
   "cell_type": "code",
   "execution_count": null,
   "metadata": {},
   "outputs": [],
   "source": [
    "lst = ['mixed', 'credit', 'mixing', 'willingly']\n",
    "for word in lst:\n",
    "    print(word)\n",
    "    print(re.search('ed|ing$', word))\n",
    "    print(\"\\n\")"
   ]
  },
  {
   "cell_type": "markdown",
   "metadata": {},
   "source": [
    "test_str = \"Hfg, is best : for ! Geeks :\"\n"
   ]
  },
  {
   "cell_type": "code",
   "execution_count": 51,
   "metadata": {},
   "outputs": [
    {
     "name": "stdout",
     "output_type": "stream",
     "text": [
      "The original string is: \n",
      "Hfg, is best : for ! Geeks :\n"
     ]
    }
   ],
   "source": [
    "test_str = \"Hfg, is best : for ! Geeks :\"\n",
    "print(\"The original string is: \\n\" + test_str)"
   ]
  },
  {
   "cell_type": "code",
   "execution_count": 71,
   "metadata": {},
   "outputs": [],
   "source": [
    "# res = re.sub(r'[^\\w\\s]', '', test_str)\n",
    "res = re.sub(r'[^\\w\\s]', \" \"  ,test_str)"
   ]
  },
  {
   "cell_type": "code",
   "execution_count": 72,
   "metadata": {},
   "outputs": [
    {
     "name": "stdout",
     "output_type": "stream",
     "text": [
      "The string after punctuation filter: \n",
      "Hfg is best  for  Geeks \n"
     ]
    }
   ],
   "source": [
    "print(\"The string after punctuation filter: \\n\" + res)"
   ]
  },
  {
   "cell_type": "code",
   "execution_count": 112,
   "metadata": {},
   "outputs": [
    {
     "name": "stdout",
     "output_type": "stream",
     "text": [
      "['This', 'is', 'a', '\\\\n', '\\\\t', 'test', 'string']\n",
      "This is a \\n \\t test string\n"
     ]
    }
   ],
   "source": [
    "test = r'This is a \\n \\t test string'\n",
    "l = test.split()\n",
    "print(l)\n",
    "print(test)\n",
    "\n"
   ]
  },
  {
   "cell_type": "code",
   "execution_count": 110,
   "metadata": {},
   "outputs": [],
   "source": [
    "res = re.sub(r'[\\\\n]', '', test)  # replace all occurence of \"\\n\" with an empty string, effectively removing them from the original raw string"
   ]
  },
  {
   "cell_type": "code",
   "execution_count": 111,
   "metadata": {},
   "outputs": [
    {
     "name": "stdout",
     "output_type": "stream",
     "text": [
      "This is a   test strig\n"
     ]
    }
   ],
   "source": [
    "print(res)"
   ]
  },
  {
   "cell_type": "code",
   "execution_count": 114,
   "metadata": {},
   "outputs": [
    {
     "name": "stdout",
     "output_type": "stream",
     "text": [
      "\n",
      "\n",
      "This is a \n",
      " test string\n"
     ]
    }
   ],
   "source": [
    "print(\"\\n\")\n",
    "\n",
    "test = 'This is a \\n test string'\n",
    "print(test)"
   ]
  },
  {
   "cell_type": "code",
   "execution_count": 115,
   "metadata": {},
   "outputs": [
    {
     "name": "stdout",
     "output_type": "stream",
     "text": [
      "This is a  test string\n"
     ]
    }
   ],
   "source": [
    "res = re.sub(r'\\n', '', test)\n",
    "print(res)"
   ]
  },
  {
   "cell_type": "markdown",
   "metadata": {},
   "source": [
    "Unicode"
   ]
  },
  {
   "cell_type": "code",
   "execution_count": 7,
   "metadata": {},
   "outputs": [],
   "source": [
    "path = nltk.data.find('corpora/unicode_samples/polish-lat2.txt')"
   ]
  },
  {
   "cell_type": "code",
   "execution_count": 9,
   "metadata": {},
   "outputs": [
    {
     "name": "stdout",
     "output_type": "stream",
     "text": [
      "Pruska Biblioteka Państwowa. Jej dawne zbiory znane pod nazwą\n",
      "\"Berlinka\" to skarb kultury i sztuki niemieckiej. Przewiezione przez\n",
      "Niemców pod koniec II wojny światowej na Dolny Śląsk, zostały\n",
      "odnalezione po 1945 r. na terytorium Polski. Trafiły do Biblioteki\n",
      "Jagiellońskiej w Krakowie, obejmują ponad 500 tys. zabytkowych\n",
      "archiwaliów, m.in. manuskrypty Goethego, Mozarta, Beethovena, Bacha.\n"
     ]
    }
   ],
   "source": [
    "f = open(path, encoding ='latin2')\n",
    "for line in f:\n",
    "    line = line.strip()\n",
    "    print(line)"
   ]
  },
  {
   "cell_type": "code",
   "execution_count": 16,
   "metadata": {},
   "outputs": [
    {
     "name": "stdout",
     "output_type": "stream",
     "text": [
      "b'archiwali\\\\xf3w, m.in. manuskrypty Goethego, Mozarta, Beethovena, Bacha.'\n",
      "b'archiwaliw, m.in. manuskrypty Goethego, Mozarta, Beethovena, Bacha.'\n",
      "\n"
     ]
    }
   ],
   "source": [
    "\n",
    "encoded_text = line.encode('unicode_escape')\n",
    "print(encoded_text)\n",
    "\n",
    "ascii_text = line.encode('ascii', 'ignore')\n",
    "\n",
    "print(ascii_text)\n",
    "\n",
    "print()"
   ]
  },
  {
   "cell_type": "code",
   "execution_count": 18,
   "metadata": {},
   "outputs": [
    {
     "name": "stdout",
     "output_type": "stream",
     "text": [
      "Defaulting to user installation because normal site-packages is not writeable\n"
     ]
    },
    {
     "name": "stderr",
     "output_type": "stream",
     "text": [
      "WARNING: Retrying (Retry(total=4, connect=None, read=None, redirect=None, status=None)) after connection broken by 'NewConnectionError('<pip._vendor.urllib3.connection.HTTPSConnection object at 0x0000021EE137DA00>: Failed to establish a new connection: [Errno 11001] getaddrinfo failed')': /simple/unidecode/\n",
      "WARNING: Retrying (Retry(total=3, connect=None, read=None, redirect=None, status=None)) after connection broken by 'NewConnectionError('<pip._vendor.urllib3.connection.HTTPSConnection object at 0x0000021EE16DEDE0>: Failed to establish a new connection: [Errno 11001] getaddrinfo failed')': /simple/unidecode/\n",
      "WARNING: Retrying (Retry(total=2, connect=None, read=None, redirect=None, status=None)) after connection broken by 'NewConnectionError('<pip._vendor.urllib3.connection.HTTPSConnection object at 0x0000021EE16F3920>: Failed to establish a new connection: [Errno 11001] getaddrinfo failed')': /simple/unidecode/\n",
      "WARNING: Retrying (Retry(total=1, connect=None, read=None, redirect=None, status=None)) after connection broken by 'NewConnectionError('<pip._vendor.urllib3.connection.HTTPSConnection object at 0x0000021EE16F3A10>: Failed to establish a new connection: [Errno 11001] getaddrinfo failed')': /simple/unidecode/\n",
      "WARNING: Retrying (Retry(total=0, connect=None, read=None, redirect=None, status=None)) after connection broken by 'NewConnectionError('<pip._vendor.urllib3.connection.HTTPSConnection object at 0x0000021EE16F3C50>: Failed to establish a new connection: [Errno 11001] getaddrinfo failed')': /simple/unidecode/\n",
      "ERROR: Could not find a version that satisfies the requirement unidecode (from versions: none)\n",
      "ERROR: No matching distribution found for unidecode\n"
     ]
    }
   ],
   "source": [
    "! pip install unidecode"
   ]
  },
  {
   "cell_type": "code",
   "execution_count": 15,
   "metadata": {},
   "outputs": [
    {
     "ename": "ModuleNotFoundError",
     "evalue": "No module named 'unidecode'",
     "output_type": "error",
     "traceback": [
      "\u001b[1;31m---------------------------------------------------------------------------\u001b[0m",
      "\u001b[1;31mModuleNotFoundError\u001b[0m                       Traceback (most recent call last)",
      "Cell \u001b[1;32mIn[15], line 1\u001b[0m\n\u001b[1;32m----> 1\u001b[0m \u001b[38;5;28;01mfrom\u001b[39;00m \u001b[38;5;21;01munidecode\u001b[39;00m \u001b[38;5;28;01mimport\u001b[39;00m unidecode\n\u001b[0;32m      2\u001b[0m unicode_text \u001b[38;5;241m=\u001b[39m \u001b[38;5;124m\"\u001b[39m\u001b[38;5;124mPruska Biblioteka Państwowa. Jej dawne zbiory znane pod nazwą\u001b[39m\u001b[38;5;124m\"\u001b[39m\n\u001b[0;32m      3\u001b[0m ascii_text \u001b[38;5;241m=\u001b[39m unidceode(unicode_text)\n",
      "\u001b[1;31mModuleNotFoundError\u001b[0m: No module named 'unidecode'"
     ]
    }
   ],
   "source": [
    "from unidecode import unidecode\n",
    "unicode_text = \"Pruska Biblioteka Państwowa. Jej dawne zbiory znane pod nazwą\"\n",
    "ascii_text = unidceode(unicode_text)\n",
    "print(ascii_text)"
   ]
  },
  {
   "cell_type": "code",
   "execution_count": 24,
   "metadata": {},
   "outputs": [
    {
     "name": "stdout",
     "output_type": "stream",
     "text": [
      "Pruska Biblioteka Państwowa. Jej dawne zbiory znane pod nazwą\n",
      "\"Berlinka\" to skarb kultury i sztuki niemieckiej. Przewiezione przez\n",
      "Niemców pod koniec II wojny światowej na Dolny Śląsk, zostały\n",
      "odnalezione po 1945 r. na terytorium Polski. Trafiły do Biblioteki\n",
      "Jagiellońskiej w Krakowie, obejmują ponad 500 tys. zabytkowych\n",
      "archiwaliów, m.in. manuskrypty Goethego, Mozarta, Beethovena, Bacha.\n",
      "b'archiwali\\\\xf3w, m.in. manuskrypty Goethego, Mozarta, Beethovena, Bacha.'\n",
      "b'archiwali\\\\xf3w, m.in. manuskrypty Goethego, Mozarta, Beethovena, Bacha.'\n"
     ]
    }
   ],
   "source": [
    "f = open(path, encoding ='latin2')\n",
    "for line in f:\n",
    "    line = line.strip()\n",
    "    print(line)\n",
    "encoded_text = line.encode('unicode_escape')\n",
    "print(encoded_text)\n",
    "ascii_text = line.encode('unicode_escape')\n",
    "print(ascii_text)\n"
   ]
  },
  {
   "cell_type": "code",
   "execution_count": 25,
   "metadata": {},
   "outputs": [
    {
     "name": "stdout",
     "output_type": "stream",
     "text": [
      "Pruska Biblioteka Państwowa. Jej dawne zbiory znane pod nazwą\n",
      "\"Berlinka\" to skarb kultury i sztuki niemieckiej. Przewiezione przez\n",
      "Niemców pod koniec II wojny światowej na Dolny Śląsk, zostały\n",
      "odnalezione po 1945 r. na terytorium Polski. Trafiły do Biblioteki\n",
      "Jagiellońskiej w Krakowie, obejmują ponad 500 tys. zabytkowych\n",
      "archiwaliów, m.in. manuskrypty Goethego, Mozarta, Beethovena, Bacha.\n",
      "b'archiwali\\\\xf3w, m.in. manuskrypty Goethego, Mozarta, Beethovena, Bacha.'\n",
      "archiwaliów, m.in. manuskrypty Goethego, Mozarta, Beethovena, Bacha.\n"
     ]
    },
    {
     "ename": "NameError",
     "evalue": "name 'unidecode' is not defined",
     "output_type": "error",
     "traceback": [
      "\u001b[1;31m---------------------------------------------------------------------------\u001b[0m",
      "\u001b[1;31mNameError\u001b[0m                                 Traceback (most recent call last)",
      "Cell \u001b[1;32mIn[25], line 12\u001b[0m\n\u001b[0;32m      6\u001b[0m \u001b[38;5;28mprint\u001b[39m(encoded_text)\n\u001b[0;32m      7\u001b[0m \u001b[38;5;28mprint\u001b[39m(encoded_text\u001b[38;5;241m.\u001b[39mdecode(\u001b[38;5;124m'\u001b[39m\u001b[38;5;124municode_escape\u001b[39m\u001b[38;5;124m'\u001b[39m))\n\u001b[1;32m---> 12\u001b[0m ascii_text \u001b[38;5;241m=\u001b[39m \u001b[43munidecode\u001b[49m(\u001b[38;5;124m'\u001b[39m\u001b[38;5;124mline\u001b[39m\u001b[38;5;124m'\u001b[39m)\n\u001b[0;32m     13\u001b[0m \u001b[38;5;28mprint\u001b[39m(ascii_text)\n\u001b[0;32m     15\u001b[0m \u001b[38;5;28mprint\u001b[39m(\u001b[38;5;124m'\u001b[39m\u001b[38;5;130;01m\\n\u001b[39;00m\u001b[38;5;124m'\u001b[39m)\n",
      "\u001b[1;31mNameError\u001b[0m: name 'unidecode' is not defined"
     ]
    }
   ],
   "source": [
    "f = open(path, encoding ='latin2')\n",
    "for line in f:\n",
    "    line = line.strip()\n",
    "    print(line)\n",
    "encoded_text = line.encode('unicode_escape')\n",
    "print(encoded_text)\n",
    "print(encoded_text.decode('unicode_escape'))\n",
    "\n",
    "\n",
    "\n",
    "\n",
    "ascii_text = unidecode('line')\n",
    "print(ascii_text)\n",
    "\n",
    "print('\\n')\n"
   ]
  },
  {
   "cell_type": "markdown",
   "metadata": {},
   "source": [
    "Gensin"
   ]
  },
  {
   "cell_type": "code",
   "execution_count": 26,
   "metadata": {},
   "outputs": [],
   "source": [
    "import re\n",
    "import numpy as np  # linear algebra\n",
    "import pandas as pd # data processing , CSV file (e.g. pd.read_csv)\n"
   ]
  },
  {
   "cell_type": "code",
   "execution_count": 33,
   "metadata": {},
   "outputs": [
    {
     "name": "stdout",
     "output_type": "stream",
     "text": [
      "Defaulting to user installation because normal site-packages is not writeable\n"
     ]
    },
    {
     "name": "stderr",
     "output_type": "stream",
     "text": [
      "ERROR: Could not find a version that satisfies the requirement skylearn (from versions: none)\n",
      "ERROR: No matching distribution found for skylearn\n"
     ]
    }
   ],
   "source": [
    "# pd.set_option('display.max_colwidth', -1)\n",
    "# dataset\n",
    "! pip install skylearn"
   ]
  },
  {
   "cell_type": "code",
   "execution_count": 31,
   "metadata": {},
   "outputs": [
    {
     "ename": "ModuleNotFoundError",
     "evalue": "No module named 'sklearn'",
     "output_type": "error",
     "traceback": [
      "\u001b[1;31m---------------------------------------------------------------------------\u001b[0m",
      "\u001b[1;31mModuleNotFoundError\u001b[0m                       Traceback (most recent call last)",
      "Cell \u001b[1;32mIn[31], line 1\u001b[0m\n\u001b[1;32m----> 1\u001b[0m \u001b[38;5;28;01mfrom\u001b[39;00m \u001b[38;5;21;01msklearn\u001b[39;00m\u001b[38;5;21;01m.\u001b[39;00m\u001b[38;5;21;01mdatasets\u001b[39;00m \u001b[38;5;28;01mimport\u001b[39;00m fetch_20newsgroups\n",
      "\u001b[1;31mModuleNotFoundError\u001b[0m: No module named 'sklearn'"
     ]
    }
   ],
   "source": [
    "from sklearn.datasets import fetch_20newsgroups\n"
   ]
  },
  {
   "cell_type": "code",
   "execution_count": null,
   "metadata": {},
   "outputs": [],
   "source": [
    "# Gensim packages\n",
    "import gensim\n",
    "import gensim.parsing import strip_tags, strip-numeric, strip_"
   ]
  }
 ],
 "metadata": {
  "kernelspec": {
   "display_name": "Python 3",
   "language": "python",
   "name": "python3"
  },
  "language_info": {
   "codemirror_mode": {
    "name": "ipython",
    "version": 3
   },
   "file_extension": ".py",
   "mimetype": "text/x-python",
   "name": "python",
   "nbconvert_exporter": "python",
   "pygments_lexer": "ipython3",
   "version": "3.12.2"
  }
 },
 "nbformat": 4,
 "nbformat_minor": 2
}
